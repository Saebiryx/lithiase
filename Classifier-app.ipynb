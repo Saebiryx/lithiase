{
 "cells": [
  {
   "cell_type": "code",
   "execution_count": 8,
   "id": "placed-value",
   "metadata": {},
   "outputs": [
    {
     "name": "stdout",
     "output_type": "stream",
     "text": [
      "Requirement already satisfied: voila in c:\\users\\simon\\appdata\\local\\programs\\python\\python38\\lib\\site-packages (0.1.23)\n",
      "Requirement already satisfied: async-generator in c:\\users\\simon\\appdata\\local\\programs\\python\\python38\\lib\\site-packages (from voila) (1.10)\n",
      "Requirement already satisfied: pygments<3,>=2.4.1 in c:\\users\\simon\\appdata\\local\\programs\\python\\python38\\lib\\site-packages (from voila) (2.8.0)\n",
      "Requirement already satisfied: nbconvert<6,>=5.5.0 in c:\\users\\simon\\appdata\\local\\programs\\python\\python38\\lib\\site-packages (from voila) (5.6.1)\n",
      "Requirement already satisfied: jupyter-server<0.2.0,>=0.1.0 in c:\\users\\simon\\appdata\\local\\programs\\python\\python38\\lib\\site-packages (from voila) (0.1.1)\n",
      "Requirement already satisfied: jupyterlab-pygments<0.2,>=0.1.0 in c:\\users\\simon\\appdata\\local\\programs\\python\\python38\\lib\\site-packages (from voila) (0.1.2)\n",
      "Requirement already satisfied: nbconvert<6,>=5.5.0 in c:\\users\\simon\\appdata\\local\\programs\\python\\python38\\lib\\site-packages (from voila) (5.6.1)\n",
      "Requirement already satisfied: pyzmq>=17 in c:\\users\\simon\\appdata\\local\\programs\\python\\python38\\lib\\site-packages (from jupyter-server<0.2.0,>=0.1.0->voila) (22.0.3)\n",
      "Requirement already satisfied: ipykernel in c:\\users\\simon\\appdata\\local\\programs\\python\\python38\\lib\\site-packages (from jupyter-server<0.2.0,>=0.1.0->voila) (5.4.3)\n",
      "Requirement already satisfied: Send2Trash in c:\\users\\simon\\appdata\\local\\programs\\python\\python38\\lib\\site-packages (from jupyter-server<0.2.0,>=0.1.0->voila) (1.5.0)\n",
      "Requirement already satisfied: traitlets>=4.2.1 in c:\\users\\simon\\appdata\\local\\programs\\python\\python38\\lib\\site-packages (from jupyter-server<0.2.0,>=0.1.0->voila) (5.0.5)\n",
      "Requirement already satisfied: ipython-genutils in c:\\users\\simon\\appdata\\local\\programs\\python\\python38\\lib\\site-packages (from jupyter-server<0.2.0,>=0.1.0->voila) (0.2.0)\n",
      "Requirement already satisfied: jinja2 in c:\\users\\simon\\appdata\\local\\programs\\python\\python38\\lib\\site-packages (from jupyter-server<0.2.0,>=0.1.0->voila) (2.11.3)\n",
      "Requirement already satisfied: tornado>=4 in c:\\users\\simon\\appdata\\local\\programs\\python\\python38\\lib\\site-packages (from jupyter-server<0.2.0,>=0.1.0->voila) (6.1)\n",
      "Requirement already satisfied: terminado>=0.8.1 in c:\\users\\simon\\appdata\\local\\programs\\python\\python38\\lib\\site-packages (from jupyter-server<0.2.0,>=0.1.0->voila) (0.9.2)\n",
      "Requirement already satisfied: jupyter-core>=4.4.0 in c:\\users\\simon\\appdata\\local\\programs\\python\\python38\\lib\\site-packages (from jupyter-server<0.2.0,>=0.1.0->voila) (4.7.1)\n",
      "Requirement already satisfied: nbformat in c:\\users\\simon\\appdata\\local\\programs\\python\\python38\\lib\\site-packages (from jupyter-server<0.2.0,>=0.1.0->voila) (5.1.2)\n",
      "Requirement already satisfied: prometheus-client in c:\\users\\simon\\appdata\\local\\programs\\python\\python38\\lib\\site-packages (from jupyter-server<0.2.0,>=0.1.0->voila) (0.9.0)\n",
      "Requirement already satisfied: jupyter-client>=5.3.1 in c:\\users\\simon\\appdata\\local\\programs\\python\\python38\\lib\\site-packages (from jupyter-server<0.2.0,>=0.1.0->voila) (6.1.11)\n",
      "Requirement already satisfied: jinja2 in c:\\users\\simon\\appdata\\local\\programs\\python\\python38\\lib\\site-packages (from jupyter-server<0.2.0,>=0.1.0->voila) (2.11.3)\n",
      "Requirement already satisfied: bleach in c:\\users\\simon\\appdata\\local\\programs\\python\\python38\\lib\\site-packages (from nbconvert<6,>=5.5.0->voila) (3.3.0)\n",
      "Requirement already satisfied: pygments<3,>=2.4.1 in c:\\users\\simon\\appdata\\local\\programs\\python\\python38\\lib\\site-packages (from voila) (2.8.0)\n",
      "Requirement already satisfied: testpath in c:\\users\\simon\\appdata\\local\\programs\\python\\python38\\lib\\site-packages (from nbconvert<6,>=5.5.0->voila) (0.4.4)\n",
      "Requirement already satisfied: mistune<2,>=0.8.1 in c:\\users\\simon\\appdata\\local\\programs\\python\\python38\\lib\\site-packages (from nbconvert<6,>=5.5.0->voila) (0.8.4)\n",
      "Requirement already satisfied: nbformat in c:\\users\\simon\\appdata\\local\\programs\\python\\python38\\lib\\site-packages (from jupyter-server<0.2.0,>=0.1.0->voila) (5.1.2)\n",
      "Requirement already satisfied: entrypoints>=0.2.2 in c:\\users\\simon\\appdata\\local\\programs\\python\\python38\\lib\\site-packages (from nbconvert<6,>=5.5.0->voila) (0.3)\n",
      "Requirement already satisfied: pandocfilters>=1.4.1 in c:\\users\\simon\\appdata\\local\\programs\\python\\python38\\lib\\site-packages (from nbconvert<6,>=5.5.0->voila) (1.4.3)\n",
      "Requirement already satisfied: jupyter-core>=4.4.0 in c:\\users\\simon\\appdata\\local\\programs\\python\\python38\\lib\\site-packages (from jupyter-server<0.2.0,>=0.1.0->voila) (4.7.1)\n",
      "Requirement already satisfied: traitlets>=4.2.1 in c:\\users\\simon\\appdata\\local\\programs\\python\\python38\\lib\\site-packages (from jupyter-server<0.2.0,>=0.1.0->voila) (5.0.5)\n",
      "Requirement already satisfied: defusedxml in c:\\users\\simon\\appdata\\local\\programs\\python\\python38\\lib\\site-packages (from nbconvert<6,>=5.5.0->voila) (0.6.0)\n",
      "Requirement already satisfied: pygments<3,>=2.4.1 in c:\\users\\simon\\appdata\\local\\programs\\python\\python38\\lib\\site-packages (from voila) (2.8.0)\n"
     ]
    },
    {
     "name": "stderr",
     "output_type": "stream",
     "text": [
      "WARNING: You are using pip version 20.2.1; however, version 21.0.1 is available.\n",
      "You should consider upgrading via the 'c:\\users\\simon\\appdata\\local\\programs\\python\\python38\\python.exe -m pip install --upgrade pip' command.\n"
     ]
    },
    {
     "name": "stdout",
     "output_type": "stream",
     "text": [
      "Requirement already satisfied: pywinpty>=0.5 in c:\\users\\simon\\appdata\\local\\programs\\python\\python38\\lib\\site-packages (from terminado>=0.8.1->jupyter-server<0.2.0,>=0.1.0->voila) (0.5.7)\n",
      "Requirement already satisfied: tornado>=4 in c:\\users\\simon\\appdata\\local\\programs\\python\\python38\\lib\\site-packages (from jupyter-server<0.2.0,>=0.1.0->voila) (6.1)\n",
      "Requirement already satisfied: pywin32>=1.0 in c:\\users\\simon\\appdata\\local\\programs\\python\\python38\\lib\\site-packages (from jupyter-core>=4.4.0->jupyter-server<0.2.0,>=0.1.0->voila) (300)\n",
      "Requirement already satisfied: traitlets>=4.2.1 in c:\\users\\simon\\appdata\\local\\programs\\python\\python38\\lib\\site-packages (from jupyter-server<0.2.0,>=0.1.0->voila) (5.0.5)\n",
      "Requirement already satisfied: jsonschema!=2.5.0,>=2.4 in c:\\users\\simon\\appdata\\local\\programs\\python\\python38\\lib\\site-packages (from nbformat->jupyter-server<0.2.0,>=0.1.0->voila) (3.2.0)\n",
      "Requirement already satisfied: traitlets>=4.2.1 in c:\\users\\simon\\appdata\\local\\programs\\python\\python38\\lib\\site-packages (from jupyter-server<0.2.0,>=0.1.0->voila) (5.0.5)\n",
      "Requirement already satisfied: ipython-genutils in c:\\users\\simon\\appdata\\local\\programs\\python\\python38\\lib\\site-packages (from jupyter-server<0.2.0,>=0.1.0->voila) (0.2.0)\n",
      "Requirement already satisfied: jupyter-core>=4.4.0 in c:\\users\\simon\\appdata\\local\\programs\\python\\python38\\lib\\site-packages (from jupyter-server<0.2.0,>=0.1.0->voila) (4.7.1)\n",
      "Requirement already satisfied: six>=1.11.0 in c:\\users\\simon\\appdata\\local\\programs\\python\\python38\\lib\\site-packages (from jsonschema!=2.5.0,>=2.4->nbformat->jupyter-server<0.2.0,>=0.1.0->voila) (1.15.0)\n",
      "Requirement already satisfied: attrs>=17.4.0 in c:\\users\\simon\\appdata\\local\\programs\\python\\python38\\lib\\site-packages (from jsonschema!=2.5.0,>=2.4->nbformat->jupyter-server<0.2.0,>=0.1.0->voila) (20.3.0)\n",
      "Requirement already satisfied: setuptools in c:\\users\\simon\\appdata\\local\\programs\\python\\python38\\lib\\site-packages (from jsonschema!=2.5.0,>=2.4->nbformat->jupyter-server<0.2.0,>=0.1.0->voila) (49.2.1)\n",
      "Requirement already satisfied: pyrsistent>=0.14.0 in c:\\users\\simon\\appdata\\local\\programs\\python\\python38\\lib\\site-packages (from jsonschema!=2.5.0,>=2.4->nbformat->jupyter-server<0.2.0,>=0.1.0->voila) (0.17.3)\n",
      "Requirement already satisfied: ipython-genutils in c:\\users\\simon\\appdata\\local\\programs\\python\\python38\\lib\\site-packages (from jupyter-server<0.2.0,>=0.1.0->voila) (0.2.0)\n",
      "Requirement already satisfied: tornado>=4 in c:\\users\\simon\\appdata\\local\\programs\\python\\python38\\lib\\site-packages (from jupyter-server<0.2.0,>=0.1.0->voila) (6.1)\n",
      "Requirement already satisfied: jupyter-core>=4.4.0 in c:\\users\\simon\\appdata\\local\\programs\\python\\python38\\lib\\site-packages (from jupyter-server<0.2.0,>=0.1.0->voila) (4.7.1)\n",
      "Requirement already satisfied: traitlets>=4.2.1 in c:\\users\\simon\\appdata\\local\\programs\\python\\python38\\lib\\site-packages (from jupyter-server<0.2.0,>=0.1.0->voila) (5.0.5)\n",
      "Requirement already satisfied: python-dateutil>=2.1 in c:\\users\\simon\\appdata\\local\\programs\\python\\python38\\lib\\site-packages (from jupyter-client>=5.3.1->jupyter-server<0.2.0,>=0.1.0->voila) (2.8.1)\n",
      "Requirement already satisfied: pyzmq>=17 in c:\\users\\simon\\appdata\\local\\programs\\python\\python38\\lib\\site-packages (from jupyter-server<0.2.0,>=0.1.0->voila) (22.0.3)\n",
      "Requirement already satisfied: six>=1.11.0 in c:\\users\\simon\\appdata\\local\\programs\\python\\python38\\lib\\site-packages (from jsonschema!=2.5.0,>=2.4->nbformat->jupyter-server<0.2.0,>=0.1.0->voila) (1.15.0)\n",
      "Requirement already satisfied: MarkupSafe>=0.23 in c:\\users\\simon\\appdata\\local\\programs\\python\\python38\\lib\\site-packages (from jinja2->jupyter-server<0.2.0,>=0.1.0->voila) (1.1.1)\n",
      "Requirement already satisfied: traitlets>=4.2.1 in c:\\users\\simon\\appdata\\local\\programs\\python\\python38\\lib\\site-packages (from jupyter-server<0.2.0,>=0.1.0->voila) (5.0.5)\n",
      "Requirement already satisfied: ipython>=5.0.0 in c:\\users\\simon\\appdata\\local\\programs\\python\\python38\\lib\\site-packages (from ipykernel->jupyter-server<0.2.0,>=0.1.0->voila) (7.20.0)\n",
      "Requirement already satisfied: jupyter-client>=5.3.1 in c:\\users\\simon\\appdata\\local\\programs\\python\\python38\\lib\\site-packages (from jupyter-server<0.2.0,>=0.1.0->voila) (6.1.11)\n",
      "Requirement already satisfied: tornado>=4 in c:\\users\\simon\\appdata\\local\\programs\\python\\python38\\lib\\site-packages (from jupyter-server<0.2.0,>=0.1.0->voila) (6.1)\n",
      "Requirement already satisfied: six>=1.11.0 in c:\\users\\simon\\appdata\\local\\programs\\python\\python38\\lib\\site-packages (from jsonschema!=2.5.0,>=2.4->nbformat->jupyter-server<0.2.0,>=0.1.0->voila) (1.15.0)\n",
      "Requirement already satisfied: packaging in c:\\users\\simon\\appdata\\local\\programs\\python\\python38\\lib\\site-packages (from bleach->nbconvert<6,>=5.5.0->voila) (20.9)\n",
      "Requirement already satisfied: webencodings in c:\\users\\simon\\appdata\\local\\programs\\python\\python38\\lib\\site-packages (from bleach->nbconvert<6,>=5.5.0->voila) (0.5.1)\n",
      "Requirement already satisfied: pyparsing>=2.0.2 in c:\\users\\simon\\appdata\\local\\programs\\python\\python38\\lib\\site-packages (from packaging->bleach->nbconvert<6,>=5.5.0->voila) (2.4.7)\n",
      "Requirement already satisfied: jedi>=0.16 in c:\\users\\simon\\appdata\\local\\programs\\python\\python38\\lib\\site-packages (from ipython>=5.0.0->ipykernel->jupyter-server<0.2.0,>=0.1.0->voila) (0.18.0)\n",
      "Requirement already satisfied: pickleshare in c:\\users\\simon\\appdata\\local\\programs\\python\\python38\\lib\\site-packages (from ipython>=5.0.0->ipykernel->jupyter-server<0.2.0,>=0.1.0->voila) (0.7.5)\n",
      "Requirement already satisfied: pygments<3,>=2.4.1 in c:\\users\\simon\\appdata\\local\\programs\\python\\python38\\lib\\site-packages (from voila) (2.8.0)\n",
      "Requirement already satisfied: backcall in c:\\users\\simon\\appdata\\local\\programs\\python\\python38\\lib\\site-packages (from ipython>=5.0.0->ipykernel->jupyter-server<0.2.0,>=0.1.0->voila) (0.2.0)\n",
      "Requirement already satisfied: setuptools in c:\\users\\simon\\appdata\\local\\programs\\python\\python38\\lib\\site-packages (from jsonschema!=2.5.0,>=2.4->nbformat->jupyter-server<0.2.0,>=0.1.0->voila) (49.2.1)\n",
      "Requirement already satisfied: decorator in c:\\users\\simon\\appdata\\local\\programs\\python\\python38\\lib\\site-packages (from ipython>=5.0.0->ipykernel->jupyter-server<0.2.0,>=0.1.0->voila) (4.4.2)\n",
      "Requirement already satisfied: prompt-toolkit!=3.0.0,!=3.0.1,<3.1.0,>=2.0.0 in c:\\users\\simon\\appdata\\local\\programs\\python\\python38\\lib\\site-packages (from ipython>=5.0.0->ipykernel->jupyter-server<0.2.0,>=0.1.0->voila) (3.0.16)\n",
      "Requirement already satisfied: colorama in c:\\users\\simon\\appdata\\local\\programs\\python\\python38\\lib\\site-packages (from ipython>=5.0.0->ipykernel->jupyter-server<0.2.0,>=0.1.0->voila) (0.4.4)\n",
      "Requirement already satisfied: traitlets>=4.2.1 in c:\\users\\simon\\appdata\\local\\programs\\python\\python38\\lib\\site-packages (from jupyter-server<0.2.0,>=0.1.0->voila) (5.0.5)\n",
      "Requirement already satisfied: parso<0.9.0,>=0.8.0 in c:\\users\\simon\\appdata\\local\\programs\\python\\python38\\lib\\site-packages (from jedi>=0.16->ipython>=5.0.0->ipykernel->jupyter-server<0.2.0,>=0.1.0->voila) (0.8.1)\n",
      "Requirement already satisfied: wcwidth in c:\\users\\simon\\appdata\\local\\programs\\python\\python38\\lib\\site-packages (from prompt-toolkit!=3.0.0,!=3.0.1,<3.1.0,>=2.0.0->ipython>=5.0.0->ipykernel->jupyter-server<0.2.0,>=0.1.0->voila) (0.2.5)\n"
     ]
    }
   ],
   "source": [
    "!pip install voila --use-feature=2020-resolver"
   ]
  },
  {
   "cell_type": "code",
   "execution_count": null,
   "id": "academic-ideal",
   "metadata": {},
   "outputs": [],
   "source": [
    "from fastbook import *"
   ]
  },
  {
   "cell_type": "code",
   "execution_count": null,
   "id": "environmental-orleans",
   "metadata": {},
   "outputs": [],
   "source": [
    "from fastai.vision.all import *"
   ]
  },
  {
   "cell_type": "code",
   "execution_count": null,
   "id": "alleged-constitution",
   "metadata": {},
   "outputs": [],
   "source": [
    "from fastai.vision.widgets import *"
   ]
  },
  {
   "cell_type": "code",
   "execution_count": 3,
   "id": "biblical-renaissance",
   "metadata": {},
   "outputs": [],
   "source": [
    "model = load_learner('Lithiase-CaOx.pkl')"
   ]
  },
  {
   "cell_type": "code",
   "execution_count": 5,
   "id": "quiet-metadata",
   "metadata": {},
   "outputs": [],
   "source": [
    "btn_upload = widgets.FileUpload()\n",
    "\n",
    "out_pl = widgets.Output()\n",
    "out_pl.clear_output()\n",
    "\n",
    "lbl_pred = widgets.Label()\n",
    "\n",
    "def on_click(change):\n",
    "    img = PILImage.create(btn_upload.data[-1])\n",
    "    out_pl.clear_output()\n",
    "    with out_pl: display(img.to_thumb(224))\n",
    "    pred,pred_idx,probs = model.predict(img)\n",
    "    lbl_pred.value = f'Prediction: {pred}; Probability: {probs[pred_idx]:.04f}'\n",
    "\n",
    "\n",
    "btn_upload.observe(on_click, names=['data'], type='change')"
   ]
  },
  {
   "cell_type": "code",
   "execution_count": 6,
   "id": "known-profession",
   "metadata": {},
   "outputs": [
    {
     "data": {
      "application/vnd.jupyter.widget-view+json": {
       "model_id": "26a071866eb34406bf7cd6eefcd95519",
       "version_major": 2,
       "version_minor": 0
      },
      "text/plain": [
       "VBox(children=(Label(value='Upload a calciumoxalaat!'), FileUpload(value={}, description='Upload'), Output(), …"
      ]
     },
     "metadata": {},
     "output_type": "display_data"
    },
    {
     "data": {
      "text/html": [],
      "text/plain": [
       "<IPython.core.display.HTML object>"
      ]
     },
     "metadata": {},
     "output_type": "display_data"
    }
   ],
   "source": [
    "VBox([widgets.Label('Upload a calciumoxalaat!'), \n",
    "      btn_upload, out_pl, lbl_pred])"
   ]
  },
  {
   "cell_type": "code",
   "execution_count": null,
   "id": "strange-shipping",
   "metadata": {},
   "outputs": [],
   "source": []
  }
 ],
 "metadata": {
  "kernelspec": {
   "display_name": "Python 3",
   "language": "python",
   "name": "python3"
  },
  "language_info": {
   "codemirror_mode": {
    "name": "ipython",
    "version": 3
   },
   "file_extension": ".py",
   "mimetype": "text/x-python",
   "name": "python",
   "nbconvert_exporter": "python",
   "pygments_lexer": "ipython3",
   "version": "3.8.6"
  }
 },
 "nbformat": 4,
 "nbformat_minor": 5
}
